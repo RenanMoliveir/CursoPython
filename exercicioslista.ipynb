{
 "cells": [
  {
   "cell_type": "code",
   "execution_count": 5,
   "id": "f8f9ce1d",
   "metadata": {},
   "outputs": [
    {
     "data": {
      "text/plain": [
       "100"
      ]
     },
     "execution_count": 5,
     "metadata": {},
     "output_type": "execute_result"
    }
   ],
   "source": [
    "# Exercício 1 – Soma dos elementos\n",
    "# Escreva um programa que receba uma lista de números e exiba a soma de todos os elementos.\n",
    "numeros = [10, 20, 30, 40] \n",
    "soma = sum(numeros)\n",
    "soma\n",
    "#Saída: A soma é 100\n"
   ]
  },
  {
   "cell_type": "code",
   "execution_count": 9,
   "id": "6c0af089",
   "metadata": {},
   "outputs": [
    {
     "data": {
      "text/plain": [
       "['uva', 'maca', 'banana', 'pera']"
      ]
     },
     "execution_count": 9,
     "metadata": {},
     "output_type": "execute_result"
    }
   ],
   "source": [
    "# Exercício 2 – Adicionando um elemento\n",
    "# Crie uma lista chamada frutas com 3 frutas de sua escolha.\n",
    "# Depois, adicione mais uma fruta usando o método append() e exiba a lista.\n",
    "\n",
    "listaFrutas = [\"uva\", \"maca\", \"banana\"]\n",
    "\n",
    "listaFrutas.append(\"pera\")\n",
    "listaFrutas"
   ]
  },
  {
   "cell_type": "code",
   "execution_count": 12,
   "id": "31e50375",
   "metadata": {},
   "outputs": [
    {
     "data": {
      "text/plain": [
       "'Verde'"
      ]
     },
     "execution_count": 12,
     "metadata": {},
     "output_type": "execute_result"
    }
   ],
   "source": [
    "# Exercício 3 – Acessando um valor específico\n",
    "# Crie uma lista chamada cores com as cores: 'azul', 'verde', 'amarelo', 'vermelho'\n",
    "# Mostre apenas a cor 'verde' usando o índice.\n",
    "listaCores = [\"azul\", \"Verde\", \"Amarelo\", \"vermelho\"]\n",
    "listaCores[1]"
   ]
  },
  {
   "cell_type": "code",
   "execution_count": 13,
   "id": "be513aca",
   "metadata": {},
   "outputs": [
    {
     "data": {
      "text/plain": [
       "'JavaScript'"
      ]
     },
     "execution_count": 13,
     "metadata": {},
     "output_type": "execute_result"
    }
   ],
   "source": [
    "# Exercício 4 – Acessando com índice negativo\n",
    "# Crie uma lista chamada linguagens com os valores: 'Python', 'Java', 'C++', 'JavaScript'\n",
    "# Mostre o último item da lista usando índice negativo.\n",
    "\n",
    "listaLinguagens = [\"Python\", \"Java\", \"C++\", \"JavaScript\"]\n",
    "listaLinguagens[-1]"
   ]
  },
  {
   "cell_type": "code",
   "execution_count": 15,
   "id": "018036eb",
   "metadata": {},
   "outputs": [
    {
     "data": {
      "text/plain": [
       "['Bruno', 'Carlos']"
      ]
     },
     "execution_count": 15,
     "metadata": {},
     "output_type": "execute_result"
    }
   ],
   "source": [
    "# Exercício 5 – Fatiamento (slice)\n",
    "# Crie uma lista chamada nomes com os valores: 'Ana', 'Bruno', 'Carlos', 'Diana', 'Eduarda'\n",
    "# Mostre apenas os nomes 'Bruno' e 'Carlos' usando fatiamento da lista.\n",
    "\n",
    "listaNomes = [\"Ana\", \"Bruno\", \"Carlos\", \"Diana\", \"Eduardo\"]\n",
    "\n",
    "listaNomes[1:3]"
   ]
  },
  {
   "cell_type": "code",
   "execution_count": null,
   "id": "cab902f9",
   "metadata": {},
   "outputs": [
    {
     "data": {
      "text/plain": [
       "['Alterado', 'Bruno', 'Carlos', 'Diana', 'Eduardo']"
      ]
     },
     "execution_count": 17,
     "metadata": {},
     "output_type": "execute_result"
    }
   ],
   "source": [
    "#Alterando o valor do indice 0\n",
    "listaNomes[0] = \"Alterado\"\n",
    "listaNomes"
   ]
  },
  {
   "cell_type": "code",
   "execution_count": null,
   "id": "12bb3e16",
   "metadata": {},
   "outputs": [
    {
     "data": {
      "text/plain": [
       "('ter', 'qua', 'qui')"
      ]
     },
     "execution_count": 18,
     "metadata": {},
     "output_type": "execute_result"
    }
   ],
   "source": [
    "#Tuplas\n",
    "#As tuplas são listas que não podem ser alteradas\n",
    "#São valores imutaveis\n",
    "\n",
    "diasSemana = (\"seg\", \"ter\", \"qua\", \"qui\", \"Sex\")\n",
    "diasSemana[ 1:4]\n",
    "#imprimindo somente ter, qua e qui"
   ]
  },
  {
   "cell_type": "code",
   "execution_count": 19,
   "id": "1c84e2b1",
   "metadata": {},
   "outputs": [
    {
     "data": {
      "text/plain": [
       "{'Ana': 25, 'Bruno': 30, 'Carlos': 35, 'Diana': 28, 'Eduardo': 40}"
      ]
     },
     "execution_count": 19,
     "metadata": {},
     "output_type": "execute_result"
    }
   ],
   "source": [
    "# Criando um dicionário com 5 nomes e idades\n",
    "dicionario = {\n",
    "    \"Ana\": 25,\n",
    "    \"Bruno\": 30,\n",
    "    \"Carlos\": 35,\n",
    "    \"Diana\": 28,\n",
    "    \"Eduardo\": 40\n",
    "}\n",
    "dicionario"
   ]
  },
  {
   "cell_type": "code",
   "execution_count": null,
   "id": "d5ede200",
   "metadata": {},
   "outputs": [
    {
     "data": {
      "text/plain": [
       "25"
      ]
     },
     "execution_count": 20,
     "metadata": {},
     "output_type": "execute_result"
    }
   ],
   "source": [
    "# Acessando valores no dicionario\n",
    "# acessando idade da Ana\n",
    "dicionario[\"Ana\"]"
   ]
  },
  {
   "cell_type": "code",
   "execution_count": 21,
   "id": "0ed0c94c",
   "metadata": {},
   "outputs": [
    {
     "data": {
      "text/plain": [
       "{'Ana': 25, 'Bruno': 31, 'Carlos': 35, 'Diana': 28, 'Eduardo': 40}"
      ]
     },
     "execution_count": 21,
     "metadata": {},
     "output_type": "execute_result"
    }
   ],
   "source": [
    "dicionario[\"Bruno\"] = 31\n",
    "# Alterando idade do BrunoS \n",
    "dicionario\n",
    "# Adicionando um novo elemento ao dicionário"
   ]
  },
  {
   "cell_type": "code",
   "execution_count": 23,
   "id": "c29287dd",
   "metadata": {},
   "outputs": [
    {
     "data": {
      "text/plain": [
       "[{'nome': 'Ana', 'idade': 25},\n",
       " {'nome': 'Bruno', 'idade': 31},\n",
       " {'nome': 'Carlos', 'idade': 35},\n",
       " {'nome': 'Diana', 'idade': 28},\n",
       " {'nome': 'Eduardo', 'idade': 40}]"
      ]
     },
     "execution_count": 23,
     "metadata": {},
     "output_type": "execute_result"
    }
   ],
   "source": [
    "# Adicionando um novo nome e idade ao dicionário\n",
    "usuarios = [\n",
    "    {\"nome\": \"Ana\", \"idade\": 25},\n",
    "    {\"nome\": \"Bruno\", \"idade\": 31},\n",
    "    {\"nome\": \"Carlos\", \"idade\": 35},\n",
    "    {\"nome\": \"Diana\", \"idade\": 28},\n",
    "    {\"nome\": \"Eduardo\", \"idade\": 40}\n",
    "]\n",
    "usuarios\n"
   ]
  },
  {
   "cell_type": "code",
   "execution_count": null,
   "id": "25f9e7c3",
   "metadata": {},
   "outputs": [
    {
     "data": {
      "text/html": [
       "<div>\n",
       "<style scoped>\n",
       "    .dataframe tbody tr th:only-of-type {\n",
       "        vertical-align: middle;\n",
       "    }\n",
       "\n",
       "    .dataframe tbody tr th {\n",
       "        vertical-align: top;\n",
       "    }\n",
       "\n",
       "    .dataframe thead th {\n",
       "        text-align: right;\n",
       "    }\n",
       "</style>\n",
       "<table border=\"1\" class=\"dataframe\">\n",
       "  <thead>\n",
       "    <tr style=\"text-align: right;\">\n",
       "      <th></th>\n",
       "      <th>nome</th>\n",
       "      <th>idade</th>\n",
       "    </tr>\n",
       "  </thead>\n",
       "  <tbody>\n",
       "    <tr>\n",
       "      <th>0</th>\n",
       "      <td>Ana</td>\n",
       "      <td>25</td>\n",
       "    </tr>\n",
       "    <tr>\n",
       "      <th>1</th>\n",
       "      <td>Bruno</td>\n",
       "      <td>31</td>\n",
       "    </tr>\n",
       "    <tr>\n",
       "      <th>2</th>\n",
       "      <td>Carlos</td>\n",
       "      <td>35</td>\n",
       "    </tr>\n",
       "    <tr>\n",
       "      <th>3</th>\n",
       "      <td>Diana</td>\n",
       "      <td>28</td>\n",
       "    </tr>\n",
       "    <tr>\n",
       "      <th>4</th>\n",
       "      <td>Eduardo</td>\n",
       "      <td>40</td>\n",
       "    </tr>\n",
       "  </tbody>\n",
       "</table>\n",
       "</div>"
      ],
      "text/plain": [
       "      nome  idade\n",
       "0      Ana     25\n",
       "1    Bruno     31\n",
       "2   Carlos     35\n",
       "3    Diana     28\n",
       "4  Eduardo     40"
      ]
     },
     "execution_count": 26,
     "metadata": {},
     "output_type": "execute_result"
    }
   ],
   "source": [
    "import pandas as pd     \n",
    "\n",
    "df = pd.DataFrame(usuarios)\n",
    "df\n",
    "# criando um dataframe com os dados do dicionario\n",
    "# Exibindo o dataframe  \n"
   ]
  }
 ],
 "metadata": {
  "kernelspec": {
   "display_name": "venv",
   "language": "python",
   "name": "python3"
  },
  "language_info": {
   "codemirror_mode": {
    "name": "ipython",
    "version": 3
   },
   "file_extension": ".py",
   "mimetype": "text/x-python",
   "name": "python",
   "nbconvert_exporter": "python",
   "pygments_lexer": "ipython3",
   "version": "3.13.3"
  }
 },
 "nbformat": 4,
 "nbformat_minor": 5
}
