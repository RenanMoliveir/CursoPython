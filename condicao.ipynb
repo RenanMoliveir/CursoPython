{
 "cells": [
  {
   "cell_type": "code",
   "execution_count": null,
   "id": "67fbf842",
   "metadata": {},
   "outputs": [
    {
     "data": {
      "text/plain": [
       "False"
      ]
     },
     "execution_count": 5,
     "metadata": {},
     "output_type": "execute_result"
    }
   ],
   "source": [
    "#Escolhas e condições\n",
    "\n",
    "# Igual \n",
    "1 == 1\n",
    "'Isac' == 'Isac2'\n"
   ]
  },
  {
   "cell_type": "code",
   "execution_count": 6,
   "id": "5d52534c",
   "metadata": {},
   "outputs": [
    {
     "data": {
      "text/plain": [
       "True"
      ]
     },
     "execution_count": 6,
     "metadata": {},
     "output_type": "execute_result"
    }
   ],
   "source": [
    "# Diferente\n",
    "1 != 2\n",
    "'Isac' != 'Isac2'   \n"
   ]
  },
  {
   "cell_type": "code",
   "execution_count": 7,
   "id": "d3044f85",
   "metadata": {},
   "outputs": [
    {
     "data": {
      "text/plain": [
       "True"
      ]
     },
     "execution_count": 7,
     "metadata": {},
     "output_type": "execute_result"
    }
   ],
   "source": [
    "# Maior ou igual\n",
    "1 >= 1"
   ]
  },
  {
   "cell_type": "code",
   "execution_count": 8,
   "id": "04ffc7b1",
   "metadata": {},
   "outputs": [
    {
     "data": {
      "text/plain": [
       "True"
      ]
     },
     "execution_count": 8,
     "metadata": {},
     "output_type": "execute_result"
    }
   ],
   "source": [
    "# Menor ou igual\n",
    "1 <= 2"
   ]
  },
  {
   "cell_type": "code",
   "execution_count": null,
   "id": "aef79a4f",
   "metadata": {},
   "outputs": [
    {
     "data": {
      "text/plain": [
       "True"
      ]
     },
     "execution_count": 10,
     "metadata": {},
     "output_type": "execute_result"
    }
   ],
   "source": [
    "# Esta dentro de um intervalo\n",
    "\n",
    "lista = [1, 2, 3, 4, 5]\n",
    "1 in lista"
   ]
  },
  {
   "cell_type": "code",
   "execution_count": 11,
   "id": "2b21304c",
   "metadata": {},
   "outputs": [
    {
     "name": "stdout",
     "output_type": "stream",
     "text": [
      "Recuperação\n"
     ]
    }
   ],
   "source": [
    "# If Else\n",
    "\n",
    "nota = int(input('Digite a nota: '))\n",
    "if nota >= 7:\n",
    "    print('Aprovado')   \n",
    "elif nota >= 5:\n",
    "    print('Recuperação')    \n",
    "else:\n",
    "    print('Reprovado')  \n",
    "    "
   ]
  },
  {
   "cell_type": "code",
   "execution_count": 13,
   "id": "05f9bfb8",
   "metadata": {},
   "outputs": [
    {
     "name": "stdout",
     "output_type": "stream",
     "text": [
      "Seu numero foi sortado com sucesso!\n"
     ]
    }
   ],
   "source": [
    "# Criando uma condição de input de um valor e verificar se esta dentro de um intervalo\n",
    "# Exemplo: 1 a 50  \n",
    "\n",
    "numero = int(input('Digite um número entre 1 e 50: '))\n",
    "\n",
    "lista = [3,5,10,15,21,26,28,30,33,34,36,37,38,39,40,41,42,43,44,45,46,47,48,49,50]  \n",
    "\n",
    "if numero in lista: \n",
    "    print('Seu numero foi sortado com sucesso!')\n",
    "else:   \n",
    "    print('Seu numero não foi sorteado!')\n"
   ]
  },
  {
   "cell_type": "code",
   "execution_count": null,
   "id": "2e7a07e5",
   "metadata": {},
   "outputs": [
    {
     "name": "stdout",
     "output_type": "stream",
     "text": [
      "Reprovado\n"
     ]
    }
   ],
   "source": [
    "# Sistema de notas INLINE\n",
    "\n",
    "nota = int(input('Digite a nota: '))\n",
    "print('Aprovado' if nota >= 7 else 'Reprovado')\n"
   ]
  }
 ],
 "metadata": {
  "kernelspec": {
   "display_name": "venv",
   "language": "python",
   "name": "python3"
  },
  "language_info": {
   "codemirror_mode": {
    "name": "ipython",
    "version": 3
   },
   "file_extension": ".py",
   "mimetype": "text/x-python",
   "name": "python",
   "nbconvert_exporter": "python",
   "pygments_lexer": "ipython3",
   "version": "3.13.3"
  }
 },
 "nbformat": 4,
 "nbformat_minor": 5
}
