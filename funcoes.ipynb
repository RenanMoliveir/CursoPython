{
 "cells": [
  {
   "cell_type": "code",
   "execution_count": null,
   "id": "454579c1",
   "metadata": {},
   "outputs": [
    {
     "name": "stdout",
     "output_type": "stream",
     "text": [
      "10\n",
      " A soma é:  15\n"
     ]
    }
   ],
   "source": [
    "# funções integradas\n",
    "\n",
    "\n",
    "nome = \"Isac Renan\"\n",
    "tamanho = len(nome)\n",
    "print(tamanho)\n",
    "    \n",
    "# Importante resslatrar que o len() é uma função integrada do Python, ou seja, não precisa importar nada para utilizá-la.\n",
    "\n",
    "numeros = [1, 2, 3, 4, 5]\n",
    "soma = sum(numeros)\n",
    "print(\" A soma é: \", soma)"
   ]
  },
  {
   "cell_type": "code",
   "execution_count": 6,
   "id": "21ecac2d",
   "metadata": {},
   "outputs": [
    {
     "data": {
      "text/plain": [
       "3.0"
      ]
     },
     "execution_count": 6,
     "metadata": {},
     "output_type": "execute_result"
    }
   ],
   "source": [
    "# funções de terceiros\n",
    "import math\n",
    "\n",
    "# A função math é uma biblioteca padrão do Python, que já vem instalada com a linguagem.\n",
    "\n",
    "numero = 9\n",
    "raiz = math.sqrt(numero)\n",
    "raiz "
   ]
  },
  {
   "cell_type": "code",
   "execution_count": 7,
   "id": "e454639f",
   "metadata": {},
   "outputs": [
    {
     "data": {
      "text/plain": [
       "25"
      ]
     },
     "execution_count": 7,
     "metadata": {},
     "output_type": "execute_result"
    }
   ],
   "source": [
    "# função eleva ao quadrado\n",
    "\n",
    "def eleva_ao_quadrado(numero):\n",
    "    quadrado = numero ** 2\n",
    "    return quadrado\n",
    "\n",
    "# A função eleva_ao_quadrado() é uma função personalizada que eleva um número ao quadrado.\n",
    "eleva_ao_quadrado(5)\n",
    "   "
   ]
  }
 ],
 "metadata": {
  "kernelspec": {
   "display_name": "venv",
   "language": "python",
   "name": "python3"
  },
  "language_info": {
   "codemirror_mode": {
    "name": "ipython",
    "version": 3
   },
   "file_extension": ".py",
   "mimetype": "text/x-python",
   "name": "python",
   "nbconvert_exporter": "python",
   "pygments_lexer": "ipython3",
   "version": "3.13.3"
  }
 },
 "nbformat": 4,
 "nbformat_minor": 5
}
