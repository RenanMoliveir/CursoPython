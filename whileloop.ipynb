{
 "cells": [
  {
   "cell_type": "code",
   "execution_count": 8,
   "id": "dadf24e5",
   "metadata": {},
   "outputs": [
    {
     "name": "stdout",
     "output_type": "stream",
     "text": [
      "5\n",
      "4\n",
      "3\n",
      "2\n",
      "1\n"
     ]
    }
   ],
   "source": [
    "# Contagem regressiva\n",
    "contador = 5\n",
    "\n",
    "while contador > 0:\n",
    "    print(contador)\n",
    "    contador -= 1   "
   ]
  },
  {
   "cell_type": "code",
   "execution_count": 11,
   "id": "9bef83d9",
   "metadata": {},
   "outputs": [
    {
     "name": "stdout",
     "output_type": "stream",
     "text": [
      "Valor digitado: 5\n",
      "Valor digitado: 6\n",
      "Soma dos valores: 11 é igual ou maior que 10\n"
     ]
    }
   ],
   "source": [
    "# somando valores até um limite\n",
    "\n",
    "soma = 0\n",
    "limite = 10 \n",
    "\n",
    "while soma < limite:\n",
    "    valor = int(input(\"Digite um valor: \"))\n",
    "    print(f\"Valor digitado: {valor}\")\n",
    "    soma += valor\n",
    "print(f\"Soma dos valores: {soma} é igual ou maior que {limite}\")\n"
   ]
  },
  {
   "cell_type": "code",
   "execution_count": 1,
   "id": "fa477b29",
   "metadata": {},
   "outputs": [
    {
     "name": "stdout",
     "output_type": "stream",
     "text": [
      "Muito baixo! Tente novamente.\n",
      "Muito baixo! Tente novamente.\n",
      "Muito alto! Tente novamente.\n",
      "Muito baixo! Tente novamente.\n",
      "Muito baixo! Tente novamente.\n",
      "Muito baixo! Tente novamente.\n",
      "Muito baixo! Tente novamente.\n",
      "Parabéns! Você adivinhou o número 45 em 8 tentativas.\n"
     ]
    }
   ],
   "source": [
    "# Adivinhando o número\n",
    "\n",
    "numero = 45\n",
    "tentativas = 0\n",
    "while True:\n",
    "    palpite = int(input(\"Adivinhe o número (entre 1 e 100): \"))\n",
    "    tentativas += 1\n",
    "    if palpite < numero:\n",
    "        print(\"Muito baixo! Tente novamente.\")\n",
    "    elif palpite > numero:\n",
    "        print(\"Muito alto! Tente novamente.\")\n",
    "    else:\n",
    "        print(f\"Parabéns! Você adivinhou o número {numero} em {tentativas} tentativas.\")\n",
    "        break"
   ]
  },
  {
   "cell_type": "code",
   "execution_count": 3,
   "id": "d145d5ef",
   "metadata": {},
   "outputs": [
    {
     "name": "stdout",
     "output_type": "stream",
     "text": [
      "Tente novamente.\n",
      "Parabéns! Você adivinhou o número!\n",
      "você adivinhou o numero em 2 tentativas\n"
     ]
    }
   ],
   "source": [
    "# Adivinhando o número com limite de tentativas\n",
    "numero_secreto = 7  \n",
    "\n",
    "for i in range(1, 6):\n",
    "    palpite = int(input(f\"Tentativa {i}: Adivinhe o número (1 a 10): \"))\n",
    "    if palpite == numero_secreto:\n",
    "        print(\"Parabéns! Você adivinhou o número!\")\n",
    "        break\n",
    "    else:\n",
    "        print(\"Tente novamente.\")\n",
    "print(\"você adivinhou o numero em\", i, \"tentativas\")\n"
   ]
  },
  {
   "cell_type": "code",
   "execution_count": 2,
   "id": "1500ffb0",
   "metadata": {},
   "outputs": [
    {
     "name": "stdout",
     "output_type": "stream",
     "text": [
      "Diana foi encontrado na lista.\n"
     ]
    }
   ],
   "source": [
    "# Encontrando o nome\n",
    "\n",
    "nomes = [\"Ana\", \"Bruno\", \"Carlos\", \"Diana\", \"Eduardo\"]\n",
    "nome_procurado = input(\"Digite o nome que deseja procurar: \")\n",
    "encontrado = False  \n",
    "\n",
    "for nome in nomes:\n",
    "    if nome == nome_procurado:\n",
    "        encontrado = True\n",
    "        break   \n",
    "if encontrado:\n",
    "    print(f\"{nome_procurado} foi encontrado na lista.\") \n",
    "else:\n",
    "    print(f\"{nome_procurado} não foi encontrado na lista.\")"
   ]
  },
  {
   "cell_type": "code",
   "execution_count": null,
   "id": "905f0125",
   "metadata": {},
   "outputs": [
    {
     "name": "stdout",
     "output_type": "stream",
     "text": [
      "Ana\n",
      "Bruno\n",
      "Nome esta na lista!\n",
      "Diana\n",
      "Eduardo\n"
     ]
    }
   ],
   "source": [
    "# Ignorando um nome específicoS\n",
    "nomes = [\"Ana\", \"Bruno\", \"Carlos\", \"Diana\", \"Eduardo\"]\n",
    "\n",
    "for nome in nomes:\n",
    "    if nome == \"Carlos\":\n",
    "        print(\"Nome esta na lista!\")\n",
    "        continue\n",
    "    print(nome)"
   ]
  },
  {
   "cell_type": "code",
   "execution_count": 11,
   "id": "a4089fb4",
   "metadata": {},
   "outputs": [
    {
     "name": "stdout",
     "output_type": "stream",
     "text": [
      "Acumulado: 0\n",
      "Digite um numero válido!\n",
      "Acumulado: 0\n",
      "Numero digitado: 5\n",
      "Acumulado: 5\n",
      "Numero digitado: 5\n"
     ]
    }
   ],
   "source": [
    "# Try except para tratamento de erros\n",
    "\n",
    "limite = 10\n",
    "acumulado = 0\n",
    "\n",
    "while acumulado < limite:\n",
    "    \n",
    "    try:\n",
    "        print(f\"Acumulado: {acumulado}\")\n",
    "        numero = int(input(\"Digite um numero: \"))\n",
    "        print(f\"Numero digitado: {numero}\")\n",
    "        acumulado += numero \n",
    "    except:\n",
    "        print(\"Digite um numero válido!\")   "
   ]
  },
  {
   "cell_type": "code",
   "execution_count": 18,
   "id": "cbe6fdee",
   "metadata": {},
   "outputs": [
    {
     "name": "stdout",
     "output_type": "stream",
     "text": [
      "Resultado: 3.33\n"
     ]
    }
   ],
   "source": [
    "# Peça dois números e divida o primeiro pelo segundo.\n",
    "# Use try/except para evitar erros de:\n",
    "# entrada inválida\n",
    "# divisão por zero\n",
    "\n",
    "try:\n",
    "    valor1 =float(input(\"Digite o primeiro número: \"))\n",
    "    valor2 =float(input(\"Digite o primeiro número: \"))\n",
    "\n",
    "\n",
    "    resultado = valor1 / valor2\n",
    "\n",
    "    print(f\"Resultado: {resultado:.2f}\")\n",
    "except:\n",
    "    print(\"Erro: Você digitou um valor inválido ou tentou dividir por zero.\")\n"
   ]
  }
 ],
 "metadata": {
  "kernelspec": {
   "display_name": "venv",
   "language": "python",
   "name": "python3"
  },
  "language_info": {
   "codemirror_mode": {
    "name": "ipython",
    "version": 3
   },
   "file_extension": ".py",
   "mimetype": "text/x-python",
   "name": "python",
   "nbconvert_exporter": "python",
   "pygments_lexer": "ipython3",
   "version": "3.13.3"
  }
 },
 "nbformat": 4,
 "nbformat_minor": 5
}
