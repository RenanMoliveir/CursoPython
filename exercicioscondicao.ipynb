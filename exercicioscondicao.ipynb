{
 "cells": [
  {
   "cell_type": "code",
   "execution_count": 2,
   "id": "25d49453",
   "metadata": {},
   "outputs": [
    {
     "name": "stdout",
     "output_type": "stream",
     "text": [
      "Você é menor de idade\n"
     ]
    }
   ],
   "source": [
    "# Montar uma condicao que diz se é maior de idade ou não    \n",
    "\n",
    "idade = int(input(\"Qual a sua idade?\"))\n",
    "\n",
    "if idade >= 18: \n",
    "    print(\"Você é maior de idade\")\n",
    "else:\n",
    "    print(\"Você é menor de idade\")"
   ]
  },
  {
   "cell_type": "code",
   "execution_count": 10,
   "id": "5d3e884c",
   "metadata": {},
   "outputs": [
    {
     "name": "stdout",
     "output_type": "stream",
     "text": [
      "Parabens, Isac! Voce tirou 8.3 e foi aprovado!\n"
     ]
    }
   ],
   "source": [
    "# Sistema de notas  \n",
    "\n",
    "nomeusuario = input(\"Digite seu nome\")\n",
    "nota = float(input(\"Qual a sua nota?\"))\n",
    "\n",
    "if nota >= 7:\n",
    "    print(f\"Parabens, {nomeusuario}! Voce tirou {nota} e foi aprovado!\")\n",
    "elif nota >= 5:\n",
    "    print(f\"{nomeusuario}, Voce tirou {nota} e esta de recupecao.\")\n",
    "else: \n",
    "    print(f\"Sua nota foi {nota}, {nomeusuario}. Voce foi Reprovado!\")"
   ]
  }
 ],
 "metadata": {
  "kernelspec": {
   "display_name": "venv",
   "language": "python",
   "name": "python3"
  },
  "language_info": {
   "codemirror_mode": {
    "name": "ipython",
    "version": 3
   },
   "file_extension": ".py",
   "mimetype": "text/x-python",
   "name": "python",
   "nbconvert_exporter": "python",
   "pygments_lexer": "ipython3",
   "version": "3.13.3"
  }
 },
 "nbformat": 4,
 "nbformat_minor": 5
}
