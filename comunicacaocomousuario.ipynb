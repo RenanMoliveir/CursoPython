{
 "cells": [
  {
   "cell_type": "code",
   "execution_count": 1,
   "id": "22273913",
   "metadata": {},
   "outputs": [
    {
     "data": {
      "text/plain": [
       "'Isac Renan'"
      ]
     },
     "execution_count": 1,
     "metadata": {},
     "output_type": "execute_result"
    }
   ],
   "source": [
    "#INPUT\n",
    "input(\"informe seu nome\")  \n",
    "#PROCESSAMENTO\n"
   ]
  },
  {
   "cell_type": "code",
   "execution_count": 2,
   "id": "c0dc8042",
   "metadata": {},
   "outputs": [
    {
     "data": {
      "text/plain": [
       "'31'"
      ]
     },
     "execution_count": 2,
     "metadata": {},
     "output_type": "execute_result"
    }
   ],
   "source": [
    "input(\"informe sua idade\")\n",
    "#SAIDA"
   ]
  },
  {
   "cell_type": "code",
   "execution_count": 3,
   "id": "169f75d0",
   "metadata": {},
   "outputs": [
    {
     "name": "stdout",
     "output_type": "stream",
     "text": [
      "Olá, Isac Renan você tem 21 anos\n"
     ]
    }
   ],
   "source": [
    "nomeUsuario = input(\"informe seu nome\")\n",
    "idadeUsuario = input(\"informe sua idade\")   \n",
    "print(\"Olá, \" + nomeUsuario + \" você tem \" + idadeUsuario + \" anos\")\n",
    "#SAIDA"
   ]
  },
  {
   "cell_type": "code",
   "execution_count": 4,
   "id": "95406c1b",
   "metadata": {},
   "outputs": [
    {
     "name": "stdout",
     "output_type": "stream",
     "text": [
      "Olá, Isac! Daqui a 10 anos, você terá 41 anos.\n"
     ]
    }
   ],
   "source": [
    "#Exercício 1 – Calculadora de Idade no Futuro\n",
    "#Objetivo: Praticar entrada de dados numéricos e operações matemáticas.\n",
    "# Solicita o nome e a idade atual do usuário    \n",
    "nome = input(\"Qual é o seu nome? \")\n",
    "idade = int(input(\"Quantos anos você tem? \"))   \n",
    "# Solicita o número de anos que o usuário deseja adicionar\n",
    "anos_futuros = int(input(\"Quantos anos você quer adicionar? \")) \n",
    "# Calcula a idade futura\n",
    "idade_futura = idade + anos_futuros \n",
    "# Exibe a idade futura\n",
    "print(f\"Olá, {nome}! Daqui a {anos_futuros} anos, você terá {idade_futura} anos.\")\n"
   ]
  },
  {
   "cell_type": "code",
   "execution_count": 5,
   "id": "4f48b01e",
   "metadata": {},
   "outputs": [
    {
     "name": "stdout",
     "output_type": "stream",
     "text": [
      "O preço total a pagar é R$ 56.00.\n"
     ]
    }
   ],
   "source": [
    "#Exercício 2 – Preço Final do Combustível\n",
    "#Objetivo: Trabalhar com números decimais e conversão de tipos.\n",
    "# Solicita ao usuário o valor do litro e a quantidade de litros\n",
    "valor_litro = float(input(\"Qual é o valor do litro do combustível? R$ \"))\n",
    "quantidade_litros = float(input(\"Quantos litros você vai abastecer? \"))     \n",
    "\n",
    "# Calcula o preço total \n",
    "preco_total = valor_litro * quantidade_litros\n",
    "# Exibe o preço total   \n",
    "print(f\"O preço total a pagar é R$ {preco_total:.2f}.\")\n"
   ]
  }
 ],
 "metadata": {
  "kernelspec": {
   "display_name": "venv",
   "language": "python",
   "name": "python3"
  },
  "language_info": {
   "codemirror_mode": {
    "name": "ipython",
    "version": 3
   },
   "file_extension": ".py",
   "mimetype": "text/x-python",
   "name": "python",
   "nbconvert_exporter": "python",
   "pygments_lexer": "ipython3",
   "version": "3.13.3"
  }
 },
 "nbformat": 4,
 "nbformat_minor": 5
}
