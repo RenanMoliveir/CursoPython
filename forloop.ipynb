{
 "cells": [
  {
   "cell_type": "code",
   "execution_count": 2,
   "id": "d4b91d58",
   "metadata": {},
   "outputs": [
    {
     "name": "stdout",
     "output_type": "stream",
     "text": [
      "Essa lista contem: maçã\n",
      "Essa lista contem: banana\n",
      "Essa lista contem: laranja\n"
     ]
    }
   ],
   "source": [
    "# FOR LOOP\n",
    "# Iterar por uma lista\n",
    "\n",
    "fruta = ['maçã', 'banana', 'laranja']\n",
    "\n",
    "for i in fruta:\n",
    "    print(f\"Essa lista contem: {i}\")"
   ]
  },
  {
   "cell_type": "code",
   "execution_count": 5,
   "id": "59e17ec8",
   "metadata": {},
   "outputs": [
    {
     "name": "stdout",
     "output_type": "stream",
     "text": [
      "Os valores digitados foram: ['10', '10', '10']\n"
     ]
    }
   ],
   "source": [
    "# Pedindo para o usuario digitar 3 valores\n",
    "\n",
    "valores = []\n",
    "\n",
    "for i in range(3):\n",
    "    valor = input(\"Digite um valor: \")\n",
    "    valores.append(valor)\n",
    "print(f\"Os valores digitados foram: {valores}\")\n"
   ]
  },
  {
   "cell_type": "code",
   "execution_count": 2,
   "id": "b07c1e69",
   "metadata": {},
   "outputs": [
    {
     "name": "stdout",
     "output_type": "stream",
     "text": [
      "Os nomes digitados foram: ['isac']\n",
      "Os nomes digitados foram: ['isac', 'Renan']\n",
      "Os nomes digitados foram: ['isac', 'Renan', 'Diana']\n"
     ]
    }
   ],
   "source": [
    "nomesUsuarios = []\n",
    "for i in range(3):\n",
    "    nome = input(\"Digite o nome do usuario: \")\n",
    "    nomesUsuarios.append(nome)\n",
    "    print(f\"Os nomes digitados foram: {nomesUsuarios}\")\n"
   ]
  },
  {
   "cell_type": "code",
   "execution_count": 7,
   "id": "399c0854",
   "metadata": {},
   "outputs": [
    {
     "name": "stdout",
     "output_type": "stream",
     "text": [
      "A media do aluno Isac é: 7.8\n",
      "O aluno Isac foi aprovado com a media 7.8\n",
      "A media do aluno renan é: 7.55\n",
      "O aluno renan foi aprovado com a media 7.55\n",
      "A media do aluno Diana é: 9.9\n",
      "O aluno Diana foi aprovado com a media 9.9\n"
     ]
    }
   ],
   "source": [
    "# Media de notas de alunos\n",
    "\n",
    "for i in range(3):\n",
    "    nome = input(\"Digite o nome do aluno: \")\n",
    "    nota1 = float(input(\"Digite a primeira nota: \"))\n",
    "    nota2 = float(input(\"Digite a segunda nota: \"))\n",
    "    media = (nota1 + nota2) / 2\n",
    "    print(f\"A media do aluno {nome} é: {media}\")\n",
    "    \n",
    "    if media >= 7:\n",
    "        print(f\"O aluno {nome} foi aprovado com a media {media}\")   \n",
    "    elif media >= 5:\n",
    "        print(f\"O aluno {nome} ficou de recuperação com a media {media}\")   \n",
    "    else:\n",
    "        print(f\"O aluno {nome} foi reprovado com a media {media}\")\n",
    "        "
   ]
  },
  {
   "cell_type": "code",
   "execution_count": 8,
   "id": "100e92fc",
   "metadata": {},
   "outputs": [
    {
     "name": "stdout",
     "output_type": "stream",
     "text": [
      "Os números digitados são: [23, 45, 16, 85, 36, 55].\n",
      "A lista tem 2 números pares e 4 números ímpares.\n",
      "Os números pares são:\n",
      "16\n",
      "36\n",
      "Os números ímpares são:\n",
      "23\n",
      "45\n",
      "85\n",
      "55\n"
     ]
    }
   ],
   "source": [
    "# Programa: Coletar 6 números, contar pares e ímpares e exibir os resultados\n",
    "\n",
    "# Criando uma lista vazia para armazenar os números digitados\n",
    "numeros = []\n",
    "\n",
    "# Loop para solicitar 6 números ao usuário\n",
    "for i in range(0, 6):\n",
    "    numero = int(input(\"Digite um número: \"))  # Converte o valor digitado para inteiro\n",
    "    numeros.append(numero)  # Adiciona o número à lista\n",
    "\n",
    "# Exibindo a lista completa de números digitados\n",
    "print(f\"Os números digitados são: {numeros}.\")\n",
    "\n",
    "# Inicializando contadores de pares e ímpares\n",
    "pares = 0   \n",
    "impares = 0\n",
    "\n",
    "# Verificando cada número da lista para contar pares e ímpares\n",
    "for i in numeros:\n",
    "    if i % 2 == 0:  # Se o número for divisível por 2, é par\n",
    "        pares += 1\n",
    "    else:  # Caso contrário, é ímpar\n",
    "        impares += 1\n",
    "\n",
    "# Mostrando a quantidade de números pares e ímpares\n",
    "print(f\"A lista tem {pares} números pares e {impares} números ímpares.\")\n",
    "\n",
    "# Exibindo os números pares da lista\n",
    "print(\"Os números pares são:\")\n",
    "for i in numeros:\n",
    "    if i % 2 == 0:\n",
    "        print(i)\n",
    "\n",
    "# Exibindo os números ímpares da lista\n",
    "print(\"Os números ímpares são:\")\n",
    "for i in numeros:\n",
    "    if i % 2 != 0:\n",
    "        print(i)\n"
   ]
  }
 ],
 "metadata": {
  "kernelspec": {
   "display_name": "venv",
   "language": "python",
   "name": "python3"
  },
  "language_info": {
   "codemirror_mode": {
    "name": "ipython",
    "version": 3
   },
   "file_extension": ".py",
   "mimetype": "text/x-python",
   "name": "python",
   "nbconvert_exporter": "python",
   "pygments_lexer": "ipython3",
   "version": "3.13.3"
  }
 },
 "nbformat": 4,
 "nbformat_minor": 5
}
