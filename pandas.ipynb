{
 "cells": [
  {
   "cell_type": "code",
   "execution_count": 22,
   "id": "2c9d4beb",
   "metadata": {},
   "outputs": [],
   "source": [
    "import pandas as pd\n",
    "# Importando pandas para manipulação de dados\n",
    "# Importing pandas for data manipulation "
   ]
  },
  {
   "cell_type": "code",
   "execution_count": 23,
   "id": "13ec71da",
   "metadata": {},
   "outputs": [],
   "source": [
    "fileName = 'Sales2022.csv'\n",
    "# Importing the CSV file containing sales data\n",
    "# Definindo o nome do arquivo CSV contendo os dados de vendas\n",
    "\n",
    "# This block of code defines the data types for specific columns in the CSV file.\n",
    "# Este bloco de código define os tipos de dados para colunas específicas no arquivo CSV.\n",
    "list_types ={\n",
    "    'CustomerNumber': str,\n",
    "    'SalesOrder': str, #Altering to str\n",
    "}\n",
    "\n",
    "# This function reads the CSV file and specifies the data types for certain columns.\n",
    "# Esta função lê o arquivo CSV e especifica os tipos de dados para certas colunas.\n",
    "df = pd.read_csv(fileName, dtype = list_types, parse_dates= ['SalesDate']) "
   ]
  },
  {
   "cell_type": "code",
   "execution_count": 24,
   "id": "b9506cda",
   "metadata": {},
   "outputs": [
    {
     "data": {
      "text/html": [
       "<div>\n",
       "<style scoped>\n",
       "    .dataframe tbody tr th:only-of-type {\n",
       "        vertical-align: middle;\n",
       "    }\n",
       "\n",
       "    .dataframe tbody tr th {\n",
       "        vertical-align: top;\n",
       "    }\n",
       "\n",
       "    .dataframe thead th {\n",
       "        text-align: right;\n",
       "    }\n",
       "</style>\n",
       "<table border=\"1\" class=\"dataframe\">\n",
       "  <thead>\n",
       "    <tr style=\"text-align: right;\">\n",
       "      <th></th>\n",
       "      <th>CustomerNumber</th>\n",
       "      <th>CustomerName</th>\n",
       "      <th>Country</th>\n",
       "      <th>State</th>\n",
       "      <th>City</th>\n",
       "      <th>PlantName</th>\n",
       "      <th>MaterialNumber</th>\n",
       "      <th>BusinessLine</th>\n",
       "      <th>Category</th>\n",
       "      <th>SalesDate</th>\n",
       "      <th>SalesOrder</th>\n",
       "      <th>Volume</th>\n",
       "      <th>Revenue</th>\n",
       "    </tr>\n",
       "  </thead>\n",
       "  <tbody>\n",
       "    <tr>\n",
       "      <th>0</th>\n",
       "      <td>2431</td>\n",
       "      <td>CUSTOMER 2431</td>\n",
       "      <td>BR</td>\n",
       "      <td>BA</td>\n",
       "      <td>Alagoinhas</td>\n",
       "      <td>Itapuã</td>\n",
       "      <td>BL01-CA03-1040</td>\n",
       "      <td>Lubrificantes</td>\n",
       "      <td>CA03</td>\n",
       "      <td>2019-01-23</td>\n",
       "      <td>32172210</td>\n",
       "      <td>60</td>\n",
       "      <td>0.00</td>\n",
       "    </tr>\n",
       "    <tr>\n",
       "      <th>1</th>\n",
       "      <td>2431</td>\n",
       "      <td>CUSTOMER 2431</td>\n",
       "      <td>BR</td>\n",
       "      <td>BA</td>\n",
       "      <td>Alagoinhas</td>\n",
       "      <td>Itapuã</td>\n",
       "      <td>BL01-CA03-1040</td>\n",
       "      <td>Lubrificantes</td>\n",
       "      <td>CA03</td>\n",
       "      <td>2019-02-13</td>\n",
       "      <td>32192966</td>\n",
       "      <td>60</td>\n",
       "      <td>249.12</td>\n",
       "    </tr>\n",
       "  </tbody>\n",
       "</table>\n",
       "</div>"
      ],
      "text/plain": [
       "  CustomerNumber   CustomerName Country State        City PlantName  \\\n",
       "0           2431  CUSTOMER 2431      BR    BA  Alagoinhas    Itapuã   \n",
       "1           2431  CUSTOMER 2431      BR    BA  Alagoinhas    Itapuã   \n",
       "\n",
       "   MaterialNumber   BusinessLine Category  SalesDate SalesOrder  Volume  \\\n",
       "0  BL01-CA03-1040  Lubrificantes     CA03 2019-01-23   32172210      60   \n",
       "1  BL01-CA03-1040  Lubrificantes     CA03 2019-02-13   32192966      60   \n",
       "\n",
       "   Revenue  \n",
       "0     0.00  \n",
       "1   249.12  "
      ]
     },
     "execution_count": 24,
     "metadata": {},
     "output_type": "execute_result"
    }
   ],
   "source": [
    "# Displaying the first two rows of the DataFrame to verify the data has been loaded correctly.\n",
    "# Exibindo as duas primeiras linhas do DataFrame para verificar se os dados foram carregados corretamente.\n",
    "df.head(2)"
   ]
  },
  {
   "cell_type": "code",
   "execution_count": 25,
   "id": "a62a92ae",
   "metadata": {},
   "outputs": [
    {
     "data": {
      "text/plain": [
       "CustomerNumber            object\n",
       "CustomerName              object\n",
       "Country                   object\n",
       "State                     object\n",
       "City                      object\n",
       "PlantName                 object\n",
       "MaterialNumber            object\n",
       "BusinessLine              object\n",
       "Category                  object\n",
       "SalesDate         datetime64[ns]\n",
       "SalesOrder                object\n",
       "Volume                     int64\n",
       "Revenue                  float64\n",
       "dtype: object"
      ]
     },
     "execution_count": 25,
     "metadata": {},
     "output_type": "execute_result"
    }
   ],
   "source": [
    "df.dtypes\n",
    "# Verifying the data types of the DataFrame to ensure they match the expected types.\n",
    "# Verificando os tipos de dados do DataFrame para garantir que correspondam aos tipos esperados."
   ]
  }
 ],
 "metadata": {
  "kernelspec": {
   "display_name": "venv",
   "language": "python",
   "name": "python3"
  },
  "language_info": {
   "codemirror_mode": {
    "name": "ipython",
    "version": 3
   },
   "file_extension": ".py",
   "mimetype": "text/x-python",
   "name": "python",
   "nbconvert_exporter": "python",
   "pygments_lexer": "ipython3",
   "version": "3.13.3"
  }
 },
 "nbformat": 4,
 "nbformat_minor": 5
}
