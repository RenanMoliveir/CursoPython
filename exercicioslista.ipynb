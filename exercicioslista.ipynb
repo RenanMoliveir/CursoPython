{
 "cells": [
  {
   "cell_type": "code",
   "execution_count": null,
   "id": "f8f9ce1d",
   "metadata": {},
   "outputs": [],
   "source": [
    "# Exercício 1 – Soma dos elementos\n",
    "# Escreva um programa que receba uma lista de números e exiba a soma de todos os elementos.\n",
    "# Exemplo: numeros = [10, 20, 30, 40] -> Saída: A soma é 100\n",
    "\n",
    "# Exercício 2 – Invertendo a lista\n",
    "# Peça ao usuário para inserir 5 números. Armazene-os em uma lista e exiba a lista na ordem inversa.\n",
    "\n",
    "# Exercício 3 – Encontrar o maior e o menor valor\n",
    "# Crie uma lista de números inteiros e exiba o maior e o menor valor contidos nela.\n",
    "\n",
    "# Exercício 4 – Remover duplicatas\n",
    "# Dada uma lista com valores repetidos, crie uma nova lista sem elementos duplicados.\n",
    "# Exemplo: lista = [1, 2, 2, 3, 4, 4, 5] -> Resultado: [1, 2, 3, 4, 5]\n",
    "\n",
    "# Exercício 5 – Frequência dos elementos\n",
    "# Escreva um programa que conte quantas vezes cada número aparece em uma lista.\n",
    "# Exemplo: lista = [3, 1, 2, 3, 4, 1, 3]\n",
    "# Saída:\n",
    "# 3 aparece 3 vezes\n",
    "# 1 aparece 2 vezes\n",
    "\n",
    "# 2 aparece 1 vez\n",
    "# 4 aparece 1 vez\n"
   ]
  }
 ],
 "metadata": {
  "language_info": {
   "name": "python"
  }
 },
 "nbformat": 4,
 "nbformat_minor": 5
}
