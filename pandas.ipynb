{
 "cells": [
  {
   "cell_type": "code",
   "execution_count": 1,
   "id": "2c9d4beb",
   "metadata": {},
   "outputs": [],
   "source": [
    "import pandas as pd\n",
    "\n"
   ]
  },
  {
   "cell_type": "code",
   "execution_count": 4,
   "id": "13ec71da",
   "metadata": {},
   "outputs": [],
   "source": [
    "fileName = 'Sales2022.csv'\n",
    "df = pd.read_csv(fileName)"
   ]
  },
  {
   "cell_type": "code",
   "execution_count": 6,
   "id": "b9506cda",
   "metadata": {},
   "outputs": [
    {
     "data": {
      "text/html": [
       "<div>\n",
       "<style scoped>\n",
       "    .dataframe tbody tr th:only-of-type {\n",
       "        vertical-align: middle;\n",
       "    }\n",
       "\n",
       "    .dataframe tbody tr th {\n",
       "        vertical-align: top;\n",
       "    }\n",
       "\n",
       "    .dataframe thead th {\n",
       "        text-align: right;\n",
       "    }\n",
       "</style>\n",
       "<table border=\"1\" class=\"dataframe\">\n",
       "  <thead>\n",
       "    <tr style=\"text-align: right;\">\n",
       "      <th></th>\n",
       "      <th>CustomerNumber</th>\n",
       "      <th>CustomerName</th>\n",
       "      <th>Country</th>\n",
       "      <th>State</th>\n",
       "      <th>City</th>\n",
       "      <th>PlantName</th>\n",
       "      <th>MaterialNumber</th>\n",
       "      <th>BusinessLine</th>\n",
       "      <th>Category</th>\n",
       "      <th>SalesDate</th>\n",
       "      <th>SalesOrder</th>\n",
       "      <th>Volume</th>\n",
       "      <th>Revenue</th>\n",
       "    </tr>\n",
       "  </thead>\n",
       "  <tbody>\n",
       "    <tr>\n",
       "      <th>0</th>\n",
       "      <td>2431</td>\n",
       "      <td>CUSTOMER 2431</td>\n",
       "      <td>BR</td>\n",
       "      <td>BA</td>\n",
       "      <td>Alagoinhas</td>\n",
       "      <td>Itapuã</td>\n",
       "      <td>BL01-CA03-1040</td>\n",
       "      <td>Lubrificantes</td>\n",
       "      <td>CA03</td>\n",
       "      <td>2019-01-23 00:00:00</td>\n",
       "      <td>32172210</td>\n",
       "      <td>60</td>\n",
       "      <td>0.00</td>\n",
       "    </tr>\n",
       "    <tr>\n",
       "      <th>1</th>\n",
       "      <td>2431</td>\n",
       "      <td>CUSTOMER 2431</td>\n",
       "      <td>BR</td>\n",
       "      <td>BA</td>\n",
       "      <td>Alagoinhas</td>\n",
       "      <td>Itapuã</td>\n",
       "      <td>BL01-CA03-1040</td>\n",
       "      <td>Lubrificantes</td>\n",
       "      <td>CA03</td>\n",
       "      <td>2019-02-13 00:00:00</td>\n",
       "      <td>32192966</td>\n",
       "      <td>60</td>\n",
       "      <td>249.12</td>\n",
       "    </tr>\n",
       "    <tr>\n",
       "      <th>2</th>\n",
       "      <td>2431</td>\n",
       "      <td>CUSTOMER 2431</td>\n",
       "      <td>BR</td>\n",
       "      <td>BA</td>\n",
       "      <td>Alagoinhas</td>\n",
       "      <td>Itapuã</td>\n",
       "      <td>BL01-CA03-1040</td>\n",
       "      <td>Lubrificantes</td>\n",
       "      <td>CA03</td>\n",
       "      <td>2019-03-18 00:00:00</td>\n",
       "      <td>32213111</td>\n",
       "      <td>60</td>\n",
       "      <td>232.34</td>\n",
       "    </tr>\n",
       "  </tbody>\n",
       "</table>\n",
       "</div>"
      ],
      "text/plain": [
       "   CustomerNumber   CustomerName Country State        City PlantName  \\\n",
       "0            2431  CUSTOMER 2431      BR    BA  Alagoinhas    Itapuã   \n",
       "1            2431  CUSTOMER 2431      BR    BA  Alagoinhas    Itapuã   \n",
       "2            2431  CUSTOMER 2431      BR    BA  Alagoinhas    Itapuã   \n",
       "\n",
       "   MaterialNumber   BusinessLine Category            SalesDate  SalesOrder  \\\n",
       "0  BL01-CA03-1040  Lubrificantes     CA03  2019-01-23 00:00:00    32172210   \n",
       "1  BL01-CA03-1040  Lubrificantes     CA03  2019-02-13 00:00:00    32192966   \n",
       "2  BL01-CA03-1040  Lubrificantes     CA03  2019-03-18 00:00:00    32213111   \n",
       "\n",
       "   Volume  Revenue  \n",
       "0      60     0.00  \n",
       "1      60   249.12  \n",
       "2      60   232.34  "
      ]
     },
     "execution_count": 6,
     "metadata": {},
     "output_type": "execute_result"
    }
   ],
   "source": [
    "df.head(3)"
   ]
  }
 ],
 "metadata": {
  "kernelspec": {
   "display_name": "venv",
   "language": "python",
   "name": "python3"
  },
  "language_info": {
   "codemirror_mode": {
    "name": "ipython",
    "version": 3
   },
   "file_extension": ".py",
   "mimetype": "text/x-python",
   "name": "python",
   "nbconvert_exporter": "python",
   "pygments_lexer": "ipython3",
   "version": "3.13.3"
  }
 },
 "nbformat": 4,
 "nbformat_minor": 5
}
