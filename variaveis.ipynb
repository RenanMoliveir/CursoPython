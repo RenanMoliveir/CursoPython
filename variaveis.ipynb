{
 "cells": [
  {
   "cell_type": "markdown",
   "id": "2b8170f1",
   "metadata": {},
   "source": [
    "01 VARIAVEIS"
   ]
  },
  {
   "cell_type": "code",
   "execution_count": 1,
   "id": "5928d529",
   "metadata": {},
   "outputs": [],
   "source": [
    "#Declarando variaveis\n",
    "nomeUsuario = \"Isac renan\"\n",
    "idade = 32\n",
    "filhos = 1\n"
   ]
  },
  {
   "cell_type": "code",
   "execution_count": null,
   "id": "e31331f4",
   "metadata": {},
   "outputs": [
    {
     "name": "stdout",
     "output_type": "stream",
     "text": [
      "Renan 37 1\n"
     ]
    }
   ],
   "source": [
    "#declarando variaveis na mesma linha\n",
    "nomeUsuario, idade, filhos = \"Renan\", 37, 1\n",
    "print(nomeUsuario, idade, filhos)\n",
    "\n",
    "#por convecao as varias são declaradas sempre em minusculo e se houver uma segunda palavra usar a primeira letra em maiusculo"
   ]
  },
  {
   "cell_type": "code",
   "execution_count": null,
   "id": "745f35b9",
   "metadata": {},
   "outputs": [
    {
     "data": {
      "text/plain": [
       "False"
      ]
     },
     "execution_count": 4,
     "metadata": {},
     "output_type": "execute_result"
    }
   ],
   "source": [
    "#comparando variaveis\n",
    "x,y,= 10, 20\n",
    "\n",
    "x == y "
   ]
  }
 ],
 "metadata": {
  "kernelspec": {
   "display_name": "venv",
   "language": "python",
   "name": "python3"
  },
  "language_info": {
   "codemirror_mode": {
    "name": "ipython",
    "version": 3
   },
   "file_extension": ".py",
   "mimetype": "text/x-python",
   "name": "python",
   "nbconvert_exporter": "python",
   "pygments_lexer": "ipython3",
   "version": "3.13.3"
  }
 },
 "nbformat": 4,
 "nbformat_minor": 5
}
