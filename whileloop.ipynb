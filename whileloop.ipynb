{
 "cells": [
  {
   "cell_type": "code",
   "execution_count": 8,
   "id": "dadf24e5",
   "metadata": {},
   "outputs": [
    {
     "name": "stdout",
     "output_type": "stream",
     "text": [
      "5\n",
      "4\n",
      "3\n",
      "2\n",
      "1\n"
     ]
    }
   ],
   "source": [
    "# Contagem regressiva\n",
    "contador = 5\n",
    "\n",
    "while contador > 0:\n",
    "    print(contador)\n",
    "    contador -= 1   "
   ]
  },
  {
   "cell_type": "code",
   "execution_count": 11,
   "id": "9bef83d9",
   "metadata": {},
   "outputs": [
    {
     "name": "stdout",
     "output_type": "stream",
     "text": [
      "Valor digitado: 5\n",
      "Valor digitado: 6\n",
      "Soma dos valores: 11 é igual ou maior que 10\n"
     ]
    }
   ],
   "source": [
    "# somando valores até um limite\n",
    "\n",
    "soma = 0\n",
    "limite = 10 \n",
    "\n",
    "while soma < limite:\n",
    "    valor = int(input(\"Digite um valor: \"))\n",
    "    print(f\"Valor digitado: {valor}\")\n",
    "    soma += valor\n",
    "print(f\"Soma dos valores: {soma} é igual ou maior que {limite}\")\n"
   ]
  }
 ],
 "metadata": {
  "kernelspec": {
   "display_name": "venv",
   "language": "python",
   "name": "python3"
  },
  "language_info": {
   "codemirror_mode": {
    "name": "ipython",
    "version": 3
   },
   "file_extension": ".py",
   "mimetype": "text/x-python",
   "name": "python",
   "nbconvert_exporter": "python",
   "pygments_lexer": "ipython3",
   "version": "3.13.3"
  }
 },
 "nbformat": 4,
 "nbformat_minor": 5
}
