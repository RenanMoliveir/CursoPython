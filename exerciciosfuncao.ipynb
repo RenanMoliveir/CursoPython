{
 "cells": [
  {
   "cell_type": "code",
   "execution_count": 10,
   "id": "b8b8ee33",
   "metadata": {},
   "outputs": [
    {
     "name": "stdout",
     "output_type": "stream",
     "text": [
      "Valores recebidos: [2, 6, 4, 3, 8]\n",
      "A média dos valores digitados é 4.6\n"
     ]
    }
   ],
   "source": [
    "# Criar função que calcula a media de 5 valores inteiros.\n",
    "# Lógica:\n",
    "# 1. Criar uma função que recebe uma lista de valores.  \n",
    "# 2. Calcular a média desses valores.\n",
    "\n",
    "\n",
    "def calcular_media(valores):\n",
    "    print(f\"Valores recebidos: {valores}\") \n",
    "    media = sum(valores) / len(valores)\n",
    "    return media\n",
    "    \n",
    "    \n",
    "# listar de valores\n",
    "valores = [\n",
    "    int(input(f\"Digite o primeiro valor: \")),\n",
    "    int(input(f\"Digite o segundo valor: \")),\n",
    "    int(input(f\"Digite o terceiro valor: \")),       \n",
    "    int(input(f\"Digite o quarto valor: \")),\n",
    "    int(input(f\"Digite o quinto valor: \"))\n",
    "] \n",
    "\n",
    "print(f\"A média dos valores digitados é {calcular_media(valores)}\")\n",
    "\n"
   ]
  },
  {
   "cell_type": "code",
   "execution_count": 6,
   "id": "3679413e",
   "metadata": {},
   "outputs": [
    {
     "name": "stdout",
     "output_type": "stream",
     "text": [
      "Status: Aprovado\n"
     ]
    }
   ],
   "source": [
    "# estudo função de nota\n",
    "\n",
    "def nota(nota1): \n",
    "    if nota1 >= 7:\n",
    "        return \"Aprovado\"\n",
    "    elif nota1 >= 5:\n",
    "        return \"Recuperação\"    \n",
    "    else:\n",
    "        return \"Reprovado\"\n",
    "\n",
    "\n",
    "\n",
    "nota1 = float(input(\"Digite a nota do aluno: \"))\n",
    "\n",
    "resultado = nota(nota1)\n",
    "print(f\"Status: {resultado}\")\n",
    "\n",
    " "
   ]
  }
 ],
 "metadata": {
  "kernelspec": {
   "display_name": "venv",
   "language": "python",
   "name": "python3"
  },
  "language_info": {
   "codemirror_mode": {
    "name": "ipython",
    "version": 3
   },
   "file_extension": ".py",
   "mimetype": "text/x-python",
   "name": "python",
   "nbconvert_exporter": "python",
   "pygments_lexer": "ipython3",
   "version": "3.13.3"
  }
 },
 "nbformat": 4,
 "nbformat_minor": 5
}
