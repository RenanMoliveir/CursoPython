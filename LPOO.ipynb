{
 "cells": [
  {
   "cell_type": "markdown",
   "id": "691a94f7",
   "metadata": {},
   "source": [
    "### Criando classes\n",
    "\n"
   ]
  },
  {
   "cell_type": "code",
   "execution_count": null,
   "id": "7221d7ea",
   "metadata": {},
   "outputs": [],
   "source": [
    "# Criando a primeira classe\n",
    "# Creating the first class\n",
    "# Criar uma classe Carro\n",
    "\n",
    "# definindo  os atributos e métodos\n",
    "\n",
    "# Atributos: cor, modelo, ano\n",
    "\n",
    "# Métodos: ligar, desligar, acelerar\n",
    "\n",
    "class Carro:\n",
    "    \n",
    "    def __init__(self, cor, modelo, ano, marca):   # método construtor. Os parametros são declarados aqui\n",
    "                                            # a palavra self é uma referência à instância atual da classe\n",
    "        self.cor = cor # Recebe o atributo\n",
    "        self.modelo = modelo\n",
    "        self.ano = ano\n",
    "        self.marca = marca"
   ]
  }
 ],
 "metadata": {
  "kernelspec": {
   "display_name": "venv",
   "language": "python",
   "name": "python3"
  },
  "language_info": {
   "name": "python",
   "version": "3.13.3"
  }
 },
 "nbformat": 4,
 "nbformat_minor": 5
}
