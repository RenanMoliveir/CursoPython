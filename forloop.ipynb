{
 "cells": [
  {
   "cell_type": "code",
   "execution_count": 2,
   "id": "d4b91d58",
   "metadata": {},
   "outputs": [
    {
     "name": "stdout",
     "output_type": "stream",
     "text": [
      "Essa lista contem: maçã\n",
      "Essa lista contem: banana\n",
      "Essa lista contem: laranja\n"
     ]
    }
   ],
   "source": [
    "# FOR LOOP\n",
    "# Iterar por uma lista\n",
    "\n",
    "fruta = ['maçã', 'banana', 'laranja']\n",
    "\n",
    "for i in fruta:\n",
    "    print(f\"Essa lista contem: {i}\")"
   ]
  },
  {
   "cell_type": "code",
   "execution_count": 5,
   "id": "59e17ec8",
   "metadata": {},
   "outputs": [
    {
     "name": "stdout",
     "output_type": "stream",
     "text": [
      "Os valores digitados foram: ['10', '10', '10']\n"
     ]
    }
   ],
   "source": [
    "# Pedindo para o usuario digitar 3 valores\n",
    "\n",
    "valores = []\n",
    "\n",
    "for i in range(3):\n",
    "    valor = input(\"Digite um valor: \")\n",
    "    valores.append(valor)\n",
    "print(f\"Os valores digitados foram: {valores}\")\n"
   ]
  }
 ],
 "metadata": {
  "kernelspec": {
   "display_name": "venv",
   "language": "python",
   "name": "python3"
  },
  "language_info": {
   "codemirror_mode": {
    "name": "ipython",
    "version": 3
   },
   "file_extension": ".py",
   "mimetype": "text/x-python",
   "name": "python",
   "nbconvert_exporter": "python",
   "pygments_lexer": "ipython3",
   "version": "3.13.3"
  }
 },
 "nbformat": 4,
 "nbformat_minor": 5
}
