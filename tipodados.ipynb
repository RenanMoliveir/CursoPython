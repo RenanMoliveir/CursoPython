{
 "cells": [
  {
   "cell_type": "markdown",
   "id": "a262cc35",
   "metadata": {},
   "source": [
    "Tipo de dados em Python\n"
   ]
  },
  {
   "cell_type": "code",
   "execution_count": 5,
   "id": "9e09f89c",
   "metadata": {},
   "outputs": [],
   "source": [
    "#inteiro\n",
    "#Float\n",
    "#string\n",
    "#booleano\n"
   ]
  },
  {
   "cell_type": "markdown",
   "id": "b0da3944",
   "metadata": {},
   "source": [
    "LISTAS\n"
   ]
  },
  {
   "cell_type": "code",
   "execution_count": 6,
   "id": "117d9750",
   "metadata": {},
   "outputs": [
    {
     "data": {
      "text/plain": [
       "['nome', 'isac', 'renan', '37', 'dados']"
      ]
     },
     "execution_count": 6,
     "metadata": {},
     "output_type": "execute_result"
    }
   ],
   "source": [
    "#Declarando listas\n",
    "minhaLista = ['nome', 'isac', 'renan', '37', 'dados']\n",
    "minhaLista"
   ]
  },
  {
   "cell_type": "code",
   "execution_count": 7,
   "id": "d42bc909",
   "metadata": {},
   "outputs": [
    {
     "data": {
      "text/plain": [
       "['nome', 'isac', 'renan', '37', 'dados', 'Diana']"
      ]
     },
     "execution_count": 7,
     "metadata": {},
     "output_type": "execute_result"
    }
   ],
   "source": [
    "#adicionando elementos na lista funcao append\n",
    "\n",
    "minhaLista.append('Diana')\n",
    "minhaLista"
   ]
  },
  {
   "cell_type": "code",
   "execution_count": 17,
   "id": "d66158d4",
   "metadata": {},
   "outputs": [
    {
     "data": {
      "text/plain": [
       "20"
      ]
     },
     "execution_count": 17,
     "metadata": {},
     "output_type": "execute_result"
    }
   ],
   "source": [
    "#Buscando valores por indice\n",
    "# o indice inicia-se em zero\n",
    "idadeAlunos = [20, 30, 35, 35, 40, 25]\n",
    "\n",
    "#acessando o indice\n",
    "#não usar sinal de igual para exbir\n",
    "idadeAlunos[0]\n"
   ]
  },
  {
   "cell_type": "code",
   "execution_count": null,
   "id": "a19d0493",
   "metadata": {},
   "outputs": [
    {
     "data": {
      "text/plain": [
       "40"
      ]
     },
     "execution_count": 18,
     "metadata": {},
     "output_type": "execute_result"
    }
   ],
   "source": [
    "# é possivel acessar valor da direita para esquera\n",
    "# usar valor do indice negativo\n",
    "# OBS da direita para esquerda indice inicia-se em 1\n",
    "idadeAlunos[- 2]"
   ]
  },
  {
   "cell_type": "code",
   "execution_count": null,
   "id": "f692eeb3",
   "metadata": {},
   "outputs": [
    {
     "data": {
      "text/plain": [
       "['isac', 'renan']"
      ]
     },
     "execution_count": 19,
     "metadata": {},
     "output_type": "execute_result"
    }
   ],
   "source": [
    "# acessando um intervalo de valores na lista\n",
    "# acessar somente o nome Isac Renan\n",
    "# OBS: o ultimo valor nao e exibido, prestar atençao nisso.\n",
    "\n",
    "minhaLista[1:3]"
   ]
  }
 ],
 "metadata": {
  "kernelspec": {
   "display_name": "venv",
   "language": "python",
   "name": "python3"
  },
  "language_info": {
   "codemirror_mode": {
    "name": "ipython",
    "version": 3
   },
   "file_extension": ".py",
   "mimetype": "text/x-python",
   "name": "python",
   "nbconvert_exporter": "python",
   "pygments_lexer": "ipython3",
   "version": "3.13.3"
  }
 },
 "nbformat": 4,
 "nbformat_minor": 5
}
