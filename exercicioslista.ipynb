{
 "cells": [
  {
   "cell_type": "code",
   "execution_count": 5,
   "id": "f8f9ce1d",
   "metadata": {},
   "outputs": [
    {
     "data": {
      "text/plain": [
       "100"
      ]
     },
     "execution_count": 5,
     "metadata": {},
     "output_type": "execute_result"
    }
   ],
   "source": [
    "# Exercício 1 – Soma dos elementos\n",
    "# Escreva um programa que receba uma lista de números e exiba a soma de todos os elementos.\n",
    "numeros = [10, 20, 30, 40] \n",
    "soma = sum(numeros)\n",
    "soma\n",
    "#Saída: A soma é 100\n"
   ]
  },
  {
   "cell_type": "code",
   "execution_count": 9,
   "id": "6c0af089",
   "metadata": {},
   "outputs": [
    {
     "data": {
      "text/plain": [
       "['uva', 'maca', 'banana', 'pera']"
      ]
     },
     "execution_count": 9,
     "metadata": {},
     "output_type": "execute_result"
    }
   ],
   "source": [
    "# Exercício 2 – Adicionando um elemento\n",
    "# Crie uma lista chamada frutas com 3 frutas de sua escolha.\n",
    "# Depois, adicione mais uma fruta usando o método append() e exiba a lista.\n",
    "\n",
    "listaFrutas = [\"uva\", \"maca\", \"banana\"]\n",
    "\n",
    "listaFrutas.append(\"pera\")\n",
    "listaFrutas"
   ]
  },
  {
   "cell_type": "code",
   "execution_count": 12,
   "id": "31e50375",
   "metadata": {},
   "outputs": [
    {
     "data": {
      "text/plain": [
       "'Verde'"
      ]
     },
     "execution_count": 12,
     "metadata": {},
     "output_type": "execute_result"
    }
   ],
   "source": [
    "# Exercício 3 – Acessando um valor específico\n",
    "# Crie uma lista chamada cores com as cores: 'azul', 'verde', 'amarelo', 'vermelho'\n",
    "# Mostre apenas a cor 'verde' usando o índice.\n",
    "listaCores = [\"azul\", \"Verde\", \"Amarelo\", \"vermelho\"]\n",
    "listaCores[1]"
   ]
  },
  {
   "cell_type": "code",
   "execution_count": 13,
   "id": "be513aca",
   "metadata": {},
   "outputs": [
    {
     "data": {
      "text/plain": [
       "'JavaScript'"
      ]
     },
     "execution_count": 13,
     "metadata": {},
     "output_type": "execute_result"
    }
   ],
   "source": [
    "# Exercício 4 – Acessando com índice negativo\n",
    "# Crie uma lista chamada linguagens com os valores: 'Python', 'Java', 'C++', 'JavaScript'\n",
    "# Mostre o último item da lista usando índice negativo.\n",
    "\n",
    "listaLinguagens = [\"Python\", \"Java\", \"C++\", \"JavaScript\"]\n",
    "listaLinguagens[-1]"
   ]
  },
  {
   "cell_type": "code",
   "execution_count": 15,
   "id": "018036eb",
   "metadata": {},
   "outputs": [
    {
     "data": {
      "text/plain": [
       "['Bruno', 'Carlos']"
      ]
     },
     "execution_count": 15,
     "metadata": {},
     "output_type": "execute_result"
    }
   ],
   "source": [
    "# Exercício 5 – Fatiamento (slice)\n",
    "# Crie uma lista chamada nomes com os valores: 'Ana', 'Bruno', 'Carlos', 'Diana', 'Eduarda'\n",
    "# Mostre apenas os nomes 'Bruno' e 'Carlos' usando fatiamento da lista.\n",
    "\n",
    "listaNomes = [\"Ana\", \"Bruno\", \"Carlos\", \"Diana\", \"Eduardo\"]\n",
    "\n",
    "listaNomes[1:3]"
   ]
  }
 ],
 "metadata": {
  "kernelspec": {
   "display_name": "venv",
   "language": "python",
   "name": "python3"
  },
  "language_info": {
   "codemirror_mode": {
    "name": "ipython",
    "version": 3
   },
   "file_extension": ".py",
   "mimetype": "text/x-python",
   "name": "python",
   "nbconvert_exporter": "python",
   "pygments_lexer": "ipython3",
   "version": "3.13.3"
  }
 },
 "nbformat": 4,
 "nbformat_minor": 5
}
